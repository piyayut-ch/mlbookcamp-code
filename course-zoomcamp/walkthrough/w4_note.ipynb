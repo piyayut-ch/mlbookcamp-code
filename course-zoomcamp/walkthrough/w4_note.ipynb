{
 "cells": [
  {
   "cell_type": "raw",
   "metadata": {},
   "source": [
    "---\n",
    "title: \"MLZoomcamp Note Week 4\"\n",
    "author: \"ปิยยุทธ จิตต์จำนงค์\"\n",
    "format:\n",
    "  html:\n",
    "    toc: true\n",
    "    number-sections: false\n",
    "    css: styles.css\n",
    "---"
   ]
  },
  {
   "cell_type": "markdown",
   "metadata": {},
   "source": [
    "# 4.1 "
   ]
  }
 ],
 "metadata": {
  "kernelspec": {
   "display_name": "Python 3.9.13 ('ml-zoomcamp')",
   "language": "python",
   "name": "python3"
  },
  "language_info": {
   "codemirror_mode": {
    "name": "ipython",
    "version": 3
   },
   "file_extension": ".py",
   "mimetype": "text/x-python",
   "name": "python",
   "nbconvert_exporter": "python",
   "pygments_lexer": "ipython3",
   "version": "3.9.13"
  },
  "vscode": {
   "interpreter": {
    "hash": "e99869d8191ba58d52b647a797362c21654eece72deee7be9763226622ab7c53"
   }
  }
 },
 "nbformat": 4,
 "nbformat_minor": 4
}
