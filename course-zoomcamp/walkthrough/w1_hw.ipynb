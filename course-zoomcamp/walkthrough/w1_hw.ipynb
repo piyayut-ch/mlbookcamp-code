{
 "cells": [
  {
   "cell_type": "code",
   "execution_count": null,
   "metadata": {},
   "outputs": [],
   "source": []
  }
 ],
 "metadata": {
  "kernelspec": {
   "display_name": "Python 3.9.7 ('base')",
   "language": "python",
   "name": "python3"
  },
  "language_info": {
   "name": "python",
   "version": "3.9.7"
  },
  "orig_nbformat": 4,
  "vscode": {
   "interpreter": {
    "hash": "4c4240917a246dc748b2b07b46ab3e571b764d90ef85f7ab2d2192d108dbdbf3"
   }
  }
 },
 "nbformat": 4,
 "nbformat_minor": 2
}
